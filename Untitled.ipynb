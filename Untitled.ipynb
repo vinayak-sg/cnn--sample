{
 "cells": [
  {
   "cell_type": "code",
   "execution_count": 1,
   "metadata": {},
   "outputs": [
    {
     "name": "stderr",
     "output_type": "stream",
     "text": [
      "/Users/midhunpk/anaconda3/lib/python3.6/site-packages/h5py/__init__.py:34: FutureWarning: Conversion of the second argument of issubdtype from `float` to `np.floating` is deprecated. In future, it will be treated as `np.float64 == np.dtype(float).type`.\n",
      "  from ._conv import register_converters as _register_converters\n"
     ]
    }
   ],
   "source": [
    "import numpy as np\n",
    "import h5py\n",
    "import matplotlib.pyplot as plt\n",
    "\n",
    "\n",
    "\n",
    "%matplotlib inline\n",
    "plt.rcParams['figure.figsize'] = (5.0,4.0)  #set  default size of photos\n",
    "plt.rcParams['image.interpolation'] = 'nearest'\n",
    "plt.rcParams['image.cmap'] = 'gray'\n",
    "\n",
    "%load_ext autoreload\n",
    "%autoreload 2\n",
    "\n",
    "np.random.seed(1)"
   ]
  },
  {
   "cell_type": "code",
   "execution_count": 2,
   "metadata": {
    "collapsed": true
   },
   "outputs": [],
   "source": [
    "# zero-padding\n",
    "def zero_pad(X,pad):\n",
    "  X_pad = np.pad(X,((0,0),(pad,pad),(pad,pad),(0,0)),'constant',constant_values=0)\n",
    "  return X_pad"
   ]
  },
  {
   "cell_type": "code",
   "execution_count": 3,
   "metadata": {},
   "outputs": [
    {
     "name": "stdout",
     "output_type": "stream",
     "text": [
      "x.shape =  (4, 3, 3, 2)\n",
      "x_pad.shape =  (4, 7, 7, 2)\n",
      "x[1,1] =  [[ 0.90085595 -0.68372786]\n",
      " [-0.12289023 -0.93576943]\n",
      " [-0.26788808  0.53035547]]\n",
      "x_pad[1,1] =  [[0. 0.]\n",
      " [0. 0.]\n",
      " [0. 0.]\n",
      " [0. 0.]\n",
      " [0. 0.]\n",
      " [0. 0.]\n",
      " [0. 0.]]\n"
     ]
    },
    {
     "data": {
      "text/plain": [
       "<matplotlib.image.AxesImage at 0x10cb30f28>"
      ]
     },
     "execution_count": 3,
     "metadata": {},
     "output_type": "execute_result"
    },
    {
     "data": {
      "image/png": "[encoded data removed]",
      "text/plain": [
       "<Figure size 360x288 with 2 Axes>"
      ]
     },
     "metadata": {},
     "output_type": "display_data"
    }
   ],
   "source": [
    "np.random.seed(1)\n",
    "x = np.random.randn(4,3,3,2)\n",
    "x_pad = zero_pad(x,2)\n",
    "print('x.shape = ',x.shape)\n",
    "print('x_pad.shape = ',x_pad.shape)\n",
    "print('x[1,1] = ',x[1,1])\n",
    "print('x_pad[1,1] = ',x_pad[1,1])\n",
    "\n",
    "fig,axarr = plt.subplots(1,2)\n",
    "axarr[0].set_title('x')\n",
    "axarr[0].imshow(x[0,:,:,0])\n",
    "axarr[1].set_title('x_pad')\n",
    "axarr[1].imshow(x_pad[0,:,:,0])"
   ]
  },
  {
   "cell_type": "code",
   "execution_count": 4,
   "metadata": {},
   "outputs": [],
   "source": [
    "# conv_single_step\n",
    "def conv_single_step(a_slice_prev,W,b):\n",
    "  \n",
    "  s = (np.multiply(a_slice_prev, W)) + b\n",
    "  \n",
    "  Z = np.sum(s)\n",
    "  return Z"
   ]
  },
  {
   "cell_type": "code",
   "execution_count": 5,
   "metadata": {},
   "outputs": [
    {
     "name": "stdout",
     "output_type": "stream",
     "text": [
      "Z =  -23.16021220252078\n"
     ]
    }
   ],
   "source": [
    "np.random.seed(1)\n",
    "a_slice_prev = np.random.randn(4,4,3)\n",
    "W = np.random.randn(4,4,3)\n",
    "b = np.random.randn(1,1,1)\n",
    "\n",
    "Z = conv_single_step(a_slice_prev,W,b)\n",
    "print('Z = ',Z)"
   ]
  },
  {
   "cell_type": "code",
   "execution_count": 6,
   "metadata": {},
   "outputs": [],
   "source": [
    "# conv_forward\n",
    "def conv_forward(A_prev,W,b,hparameters):\n",
    "  (m,n_H_prev,n_W_prev,n_C_prev) = A_prev.shape\n",
    "  (f,f,n_C_prev,n_C) = W.shape\n",
    "  \n",
    "  stride = hparameters['stride']\n",
    "  pad = hparameters['pad']\n",
    "  \n",
    "  n_H = int((n_H_prev - f + 2*pad)/stride)\n",
    "  n_W = int((n_W_prev - f + 2*pad) / stride)\n",
    "  \n",
    "  Z = np.zeros((m, n_H, n_W, n_C))\n",
    "  \n",
    "  \n",
    "  A_prev_pad = zero_pad(A_prev,pad)\n",
    "  \n",
    "  \n",
    "  \n",
    "  for i in range(m) :\n",
    "    a_prev_pad = A_prev_pad[i]\n",
    "    \n",
    "    for h in range(n_H):\n",
    "      for w in range(n_W):\n",
    "        for c in range(n_C):\n",
    "          vert_start = h * stride\n",
    "          vert_end = vert_start + f\n",
    "          horiz_start = w * stride\n",
    "          horiz_end = horiz_start + f\n",
    "          \n",
    "          a_slice_prev = a_prev_pad[vert_start:vert_end, horiz_start:horiz_end, :]\n",
    "          \n",
    "          Z[i, h, w, c] = conv_single_step(a_slice_prev, W[...,c], b[...,c])\n",
    "          \n",
    "  assert(Z.shape == (m, n_H, n_W, n_C))\n",
    "          \n",
    "  cache = (A_prev, W, b, hparameters)\n",
    "          \n",
    "          \n",
    "  return Z, cache"
   ]
  },
  {
   "cell_type": "code",
   "execution_count": 7,
   "metadata": {},
   "outputs": [
    {
     "data": {
      "text/plain": [
       "(4, 4, 3)"
      ]
     },
     "execution_count": 7,
     "metadata": {},
     "output_type": "execute_result"
    }
   ],
   "source": [
    "W.shape"
   ]
  },
  {
   "cell_type": "code",
   "execution_count": 8,
   "metadata": {},
   "outputs": [
    {
     "name": "stdout",
     "output_type": "stream",
     "text": [
      "Z's mean = 0.15185086124546351\n",
      "cache_conv[0][1][2][3] = [-0.20075807  0.18656139  0.41005165]\n"
     ]
    }
   ],
   "source": [
    "np.random.seed(1)\n",
    "A_prev = np.random.randn(10, 4, 4, 3)\n",
    "W = np.random.randn(2, 2, 3, 8)\n",
    "b = np.random.randn(1, 1, 1, 8)\n",
    "hparameters = {\"pad\" : 2,\n",
    "               \"stride\": 1}\n",
    "\n",
    "\n",
    "Z, cache_conv = conv_forward(A_prev, W, b, hparameters)\n",
    "print(\"Z's mean =\", np.mean(Z))\n",
    "print(\"cache_conv[0][1][2][3] =\", cache_conv[0][1][2][3])\n",
    "\n"
   ]
  },
  {
   "cell_type": "code",
   "execution_count": 15,
   "metadata": {
    "collapsed": true
   },
   "outputs": [],
   "source": [
    "# pool forward\n",
    "def pool_forward(A_prev,hparameters,mode = 'max'):\n",
    "  (m, n_H_prev, n_W_prev, n_C_prev) = A_prev.shape\n",
    "\n",
    "  f = hparameters['f']\n",
    "  stride = hparameters['stride']\n",
    "  \n",
    "  \n",
    "  n_H = int(1 + (n_H_prev - f) / stride)\n",
    "  n_W = int(1 + (n_W_prev - f) / stride)\n",
    "  n_C = n_C_prev\n",
    "  \n",
    "  A =np.zeros((m, n_H, n_W, n_C))\n",
    "  \n",
    "  for i in range(m):\n",
    "    for h in range(n_H):\n",
    "      for w in range(n_W):\n",
    "        for c in range(n_C):\n",
    "          vert_start = h * stride\n",
    "          vert_end = vert_start + f\n",
    "          horiz_start = w * stride\n",
    "          horiz_end = horiz_start + f\n",
    "          \n",
    "          \n",
    "          a_prev_slice = A_prev[i, vert_start:vert_end, horiz_start:horiz_end, c]\n",
    "          \n",
    "          if mode == 'max':\n",
    "            A[i, h, w, c] = np.max(a_prev_slice)\n",
    "          elif mode == 'average' :\n",
    "            A[i, h, w, c] = np.mean(a_prev_slice)\n",
    "            \n",
    "            \n",
    "  cache = (A_prev, hparameters)\n",
    "  assert(A.shape == (m, n_H, n_W, n_C))\n",
    "  \n",
    "  return A,cache"
   ]
  },
  {
   "cell_type": "code",
   "execution_count": 16,
   "metadata": {},
   "outputs": [
    {
     "name": "stdout",
     "output_type": "stream",
     "text": [
      "mode = max\n",
      "A = [[[[1.74481176 1.6924546  2.10025514]]]\n",
      "\n",
      "\n",
      " [[[1.19891788 1.51981682 2.18557541]]]]\n",
      "\n",
      "mode = average\n",
      "A = [[[[-0.09498456  0.11180064 -0.14263511]]]\n",
      "\n",
      "\n",
      " [[[-0.09525108  0.28325018  0.33035185]]]]\n"
     ]
    }
   ],
   "source": [
    "np.random.seed(1)\n",
    "A_prev = np.random.randn(2, 4, 4, 3)\n",
    "hparameters = {\"stride\" : 1, \"f\": 4}\n",
    "\n",
    "A, cache = pool_forward(A_prev, hparameters)\n",
    "print(\"mode = max\")\n",
    "print(\"A =\", A)\n",
    "print()\n",
    "A, cache = pool_forward(A_prev, hparameters, mode = \"average\")\n",
    "print(\"mode = average\")\n",
    "print(\"A =\", A)"
   ]
  },
  {
   "cell_type": "code",
   "execution_count": null,
   "metadata": {
    "collapsed": true
   },
   "outputs": [],
   "source": []
  },
  {
   "cell_type": "code",
   "execution_count": null,
   "metadata": {
    "collapsed": true
   },
   "outputs": [],
   "source": []
  },
  {
   "cell_type": "code",
   "execution_count": null,
   "metadata": {
    "collapsed": true
   },
   "outputs": [],
   "source": []
  },
  {
   "cell_type": "code",
   "execution_count": null,
   "metadata": {
    "collapsed": true
   },
   "outputs": [],
   "source": []
  }
 ],
 "metadata": {
  "kernelspec": {
   "display_name": "Python 3",
   "language": "python",
   "name": "python3"
  },
  "language_info": {
   "codemirror_mode": {
    "name": "ipython",
    "version": 3
   },
   "file_extension": ".py",
   "mimetype": "text/x-python",
   "name": "python",
   "nbconvert_exporter": "python",
   "pygments_lexer": "ipython3",
   "version": "3.6.3"
  }
 },
 "nbformat": 4,
 "nbformat_minor": 2
}
